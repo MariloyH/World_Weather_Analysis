{
 "cells": [
  {
   "cell_type": "markdown",
   "metadata": {},
   "source": [
    "## Deliverable 3. Create a Travel Itinerary Map."
   ]
  },
  {
   "cell_type": "code",
   "execution_count": 1,
   "metadata": {},
   "outputs": [],
   "source": [
    "# Dependencies and Setup\n",
    "import pandas as pd\n",
    "import requests\n",
    "import gmaps\n",
    "#import gmaps.dataset\n",
    "\n",
    "# Import API key\n",
    "from config import g_key\n",
    "\n",
    "# Configure gmaps\n",
    "gmaps.configure(api_key=g_key)"
   ]
  },
  {
   "cell_type": "code",
   "execution_count": 2,
   "metadata": {},
   "outputs": [
    {
     "data": {
      "text/html": [
       "<div>\n",
       "<style scoped>\n",
       "    .dataframe tbody tr th:only-of-type {\n",
       "        vertical-align: middle;\n",
       "    }\n",
       "\n",
       "    .dataframe tbody tr th {\n",
       "        vertical-align: top;\n",
       "    }\n",
       "\n",
       "    .dataframe thead th {\n",
       "        text-align: right;\n",
       "    }\n",
       "</style>\n",
       "<table border=\"1\" class=\"dataframe\">\n",
       "  <thead>\n",
       "    <tr style=\"text-align: right;\">\n",
       "      <th></th>\n",
       "      <th>City_ID</th>\n",
       "      <th>City</th>\n",
       "      <th>Country</th>\n",
       "      <th>Max Temp</th>\n",
       "      <th>Current Description</th>\n",
       "      <th>Lat</th>\n",
       "      <th>Lng</th>\n",
       "      <th>Hotel Name</th>\n",
       "    </tr>\n",
       "  </thead>\n",
       "  <tbody>\n",
       "    <tr>\n",
       "      <th>0</th>\n",
       "      <td>3</td>\n",
       "      <td>Shingu</td>\n",
       "      <td>JP</td>\n",
       "      <td>62.15</td>\n",
       "      <td>light rain</td>\n",
       "      <td>33.7333</td>\n",
       "      <td>135.9833</td>\n",
       "      <td>Shingu UI Hotel</td>\n",
       "    </tr>\n",
       "    <tr>\n",
       "      <th>1</th>\n",
       "      <td>4</td>\n",
       "      <td>Garmsar</td>\n",
       "      <td>IR</td>\n",
       "      <td>73.49</td>\n",
       "      <td>few clouds</td>\n",
       "      <td>35.2182</td>\n",
       "      <td>52.3409</td>\n",
       "      <td>مجتمع مرصاد</td>\n",
       "    </tr>\n",
       "    <tr>\n",
       "      <th>2</th>\n",
       "      <td>5</td>\n",
       "      <td>Hermanus</td>\n",
       "      <td>ZA</td>\n",
       "      <td>65.80</td>\n",
       "      <td>overcast clouds</td>\n",
       "      <td>-34.4187</td>\n",
       "      <td>19.2345</td>\n",
       "      <td>Misty Waves Boutique Hotel</td>\n",
       "    </tr>\n",
       "    <tr>\n",
       "      <th>3</th>\n",
       "      <td>6</td>\n",
       "      <td>Khash</td>\n",
       "      <td>IR</td>\n",
       "      <td>75.97</td>\n",
       "      <td>clear sky</td>\n",
       "      <td>28.2211</td>\n",
       "      <td>61.2158</td>\n",
       "      <td>خوابگاه آبجی محدثه</td>\n",
       "    </tr>\n",
       "    <tr>\n",
       "      <th>4</th>\n",
       "      <td>7</td>\n",
       "      <td>Lucapa</td>\n",
       "      <td>AO</td>\n",
       "      <td>74.91</td>\n",
       "      <td>overcast clouds</td>\n",
       "      <td>-8.4192</td>\n",
       "      <td>20.7447</td>\n",
       "      <td>Residência Ulisses Dos Santos</td>\n",
       "    </tr>\n",
       "  </tbody>\n",
       "</table>\n",
       "</div>"
      ],
      "text/plain": [
       "   City_ID      City Country  Max Temp Current Description      Lat       Lng  \\\n",
       "0        3    Shingu      JP     62.15          light rain  33.7333  135.9833   \n",
       "1        4   Garmsar      IR     73.49          few clouds  35.2182   52.3409   \n",
       "2        5  Hermanus      ZA     65.80     overcast clouds -34.4187   19.2345   \n",
       "3        6     Khash      IR     75.97           clear sky  28.2211   61.2158   \n",
       "4        7    Lucapa      AO     74.91     overcast clouds  -8.4192   20.7447   \n",
       "\n",
       "                      Hotel Name  \n",
       "0                Shingu UI Hotel  \n",
       "1                    مجتمع مرصاد  \n",
       "2     Misty Waves Boutique Hotel  \n",
       "3             خوابگاه آبجی محدثه  \n",
       "4  Residência Ulisses Dos Santos  "
      ]
     },
     "execution_count": 2,
     "metadata": {},
     "output_type": "execute_result"
    }
   ],
   "source": [
    "# 1. Read the WeatherPy_vacation.csv into a DataFrame.\n",
    "vacation_df = pd.read_csv(\"../Vacation_Search/WeatherPy_vacation.csv\")\n",
    "vacation_df.head()"
   ]
  },
  {
   "cell_type": "code",
   "execution_count": 3,
   "metadata": {},
   "outputs": [],
   "source": [
    "# 2. Using the template add the city name, the country code, the weather description and maximum temperature for the city.\n",
    "#info_box_template = \"\"\"\n",
    "#\"\"\"\n",
    "info_box_template = \"\"\"\n",
    "<dl>\n",
    "<dt>Hotel Name</dt><dd>{Hotel Name}</dd>\n",
    "<dt>City</dt><dd>{City}</dd>\n",
    "<dt>Country</dt><dd>{Country}</dd>\n",
    "<dt>Current Description</dt><dd>{Current Description}</dd>\n",
    "<dt>Max Temp</dt><dd>{Max Temp} °F</dd>\n",
    "</dl>\n",
    "\"\"\"\n",
    "\n",
    "# 3a. Get the data from each row and add it to the formatting template and store the data in a list.\n",
    "#hotel_info = [info_box_template.format(**row) for index, row in clean_hotel_df.iterrows()]\n",
    "hotel_info = [info_box_template.format(**row) for index, row in vacation_df.iterrows()]\n",
    "\n",
    "# 3b. Get the latitude and longitude from each row and store in a new DataFrame.\n",
    "locations = vacation_df[[\"Lat\", \"Lng\"]]\n",
    "hotel_df = vacation_df"
   ]
  },
  {
   "cell_type": "code",
   "execution_count": 4,
   "metadata": {},
   "outputs": [
    {
     "data": {
      "application/vnd.jupyter.widget-view+json": {
       "model_id": "fa1c41dfbfed41b89ba8a83f665260f9",
       "version_major": 2,
       "version_minor": 0
      },
      "text/plain": [
       "Figure(layout=FigureLayout(height='420px'))"
      ]
     },
     "metadata": {},
     "output_type": "display_data"
    }
   ],
   "source": [
    "# 4a. Add a marker layer for each city to the map.\n",
    "locations = vacation_df[[\"Lat\", \"Lng\"]]\n",
    "max_temp = vacation_df[\"Max Temp\"]\n",
    "\n",
    "fig = gmaps.figure(center=(30.0, 31.0), zoom_level=1.5)\n",
    "heat_layer = gmaps.heatmap_layer(locations, weights=max_temp,dissipating=False,\n",
    "             max_intensity=300, point_radius=4)\n",
    "marker_layer = gmaps.marker_layer(locations, info_box_content=hotel_info)\n",
    "\n",
    "#fig.add_layer(heat_layer)\n",
    "fig.add_layer(marker_layer)\n",
    "\n",
    "# 4b. Display the figure\n",
    "fig\n"
   ]
  },
  {
   "cell_type": "code",
   "execution_count": 5,
   "metadata": {},
   "outputs": [
    {
     "data": {
      "text/html": [
       "<div>\n",
       "<style scoped>\n",
       "    .dataframe tbody tr th:only-of-type {\n",
       "        vertical-align: middle;\n",
       "    }\n",
       "\n",
       "    .dataframe tbody tr th {\n",
       "        vertical-align: top;\n",
       "    }\n",
       "\n",
       "    .dataframe thead th {\n",
       "        text-align: right;\n",
       "    }\n",
       "</style>\n",
       "<table border=\"1\" class=\"dataframe\">\n",
       "  <thead>\n",
       "    <tr style=\"text-align: right;\">\n",
       "      <th></th>\n",
       "      <th>City_ID</th>\n",
       "      <th>City</th>\n",
       "      <th>Country</th>\n",
       "      <th>Max Temp</th>\n",
       "      <th>Current Description</th>\n",
       "      <th>Lat</th>\n",
       "      <th>Lng</th>\n",
       "      <th>Hotel Name</th>\n",
       "    </tr>\n",
       "  </thead>\n",
       "  <tbody>\n",
       "    <tr>\n",
       "      <th>0</th>\n",
       "      <td>299</td>\n",
       "      <td>Santona</td>\n",
       "      <td>ES</td>\n",
       "      <td>62.91</td>\n",
       "      <td>few clouds</td>\n",
       "      <td>43.4439</td>\n",
       "      <td>-3.4576</td>\n",
       "      <td>Playamar</td>\n",
       "    </tr>\n",
       "    <tr>\n",
       "      <th>1</th>\n",
       "      <td>276</td>\n",
       "      <td>Ferrol</td>\n",
       "      <td>ES</td>\n",
       "      <td>63.36</td>\n",
       "      <td>few clouds</td>\n",
       "      <td>43.4832</td>\n",
       "      <td>-8.2369</td>\n",
       "      <td>Hotel Spa Sercotel Odeón</td>\n",
       "    </tr>\n",
       "    <tr>\n",
       "      <th>2</th>\n",
       "      <td>676</td>\n",
       "      <td>Ponferrada</td>\n",
       "      <td>ES</td>\n",
       "      <td>73.09</td>\n",
       "      <td>scattered clouds</td>\n",
       "      <td>42.5466</td>\n",
       "      <td>-6.5962</td>\n",
       "      <td>Hotel Temple Ponferrada</td>\n",
       "    </tr>\n",
       "    <tr>\n",
       "      <th>3</th>\n",
       "      <td>445</td>\n",
       "      <td>Logrono</td>\n",
       "      <td>ES</td>\n",
       "      <td>76.50</td>\n",
       "      <td>clear sky</td>\n",
       "      <td>42.4667</td>\n",
       "      <td>-2.4500</td>\n",
       "      <td>Hotel Gran Vía Logroño</td>\n",
       "    </tr>\n",
       "  </tbody>\n",
       "</table>\n",
       "</div>"
      ],
      "text/plain": [
       "   City_ID        City Country  Max Temp Current Description      Lat     Lng  \\\n",
       "0      299     Santona      ES     62.91          few clouds  43.4439 -3.4576   \n",
       "1      276      Ferrol      ES     63.36          few clouds  43.4832 -8.2369   \n",
       "2      676  Ponferrada      ES     73.09    scattered clouds  42.5466 -6.5962   \n",
       "3      445     Logrono      ES     76.50           clear sky  42.4667 -2.4500   \n",
       "\n",
       "                 Hotel Name  \n",
       "0                  Playamar  \n",
       "1  Hotel Spa Sercotel Odeón  \n",
       "2   Hotel Temple Ponferrada  \n",
       "3    Hotel Gran Vía Logroño  "
      ]
     },
     "execution_count": 5,
     "metadata": {},
     "output_type": "execute_result"
    }
   ],
   "source": [
    "# From the map above pick 4 cities and create a vacation itinerary route to travel between the four cities. \n",
    "# 5. Create DataFrames for each city by filtering the 'vacation_df' using the loc method. \n",
    "# Hint: The starting and ending city should be the same city.\n",
    "\n",
    "vacation_start = vacation_df.loc[(vacation_df[\"City\"] == \"Santona\")]                                   \n",
    "vacation_stop1 = vacation_df.loc[(vacation_df[\"City\"] == \"Ferrol\")] \n",
    "vacation_stop2 = vacation_df.loc[(vacation_df[\"City\"] == \"Ponferrada\")] \n",
    "vacation_stop3 = vacation_df.loc[(vacation_df[\"City\"] == \"Logrono\")] \n",
    "\n",
    "vacation_trip  = [vacation_start, vacation_stop1, vacation_stop2, vacation_stop3]\n",
    "vacation_trip_df = pd.concat (vacation_trip, ignore_index=True)\n",
    "vacation_trip_df"
   ]
  },
  {
   "cell_type": "code",
   "execution_count": 6,
   "metadata": {},
   "outputs": [
    {
     "data": {
      "text/plain": [
       "array([[43.4439, -3.4576],\n",
       "       [43.4832, -8.2369],\n",
       "       [42.5466, -6.5962],\n",
       "       [42.4667, -2.45  ]])"
      ]
     },
     "execution_count": 6,
     "metadata": {},
     "output_type": "execute_result"
    }
   ],
   "source": [
    "coords_trip = vacation_trip_df[[\"Lat\", \"Lng\"]].to_numpy()\n",
    "coords_trip"
   ]
  },
  {
   "cell_type": "code",
   "execution_count": 7,
   "metadata": {},
   "outputs": [],
   "source": [
    "# 6. Get the latitude-longitude pairs as tuples from each city DataFrame using the to_numpy function and list indexing.\n",
    "\n",
    "start = coords_trip[0][0], coords_trip[0][1]\n",
    "stop1 = coords_trip[1][0], coords_trip[1][1]\n",
    "stop2 = coords_trip[2][0], coords_trip[2][1]\n",
    "stop3 = coords_trip[3][0], coords_trip[3][1]\n",
    "end   = coords_trip[0][0], coords_trip[0][1]                      "
   ]
  },
  {
   "cell_type": "code",
   "execution_count": 8,
   "metadata": {},
   "outputs": [
    {
     "data": {
      "text/plain": [
       "(43.4439, -3.4576)"
      ]
     },
     "execution_count": 8,
     "metadata": {},
     "output_type": "execute_result"
    }
   ],
   "source": [
    "start"
   ]
  },
  {
   "cell_type": "code",
   "execution_count": 9,
   "metadata": {
    "scrolled": true
   },
   "outputs": [
    {
     "data": {
      "application/vnd.jupyter.widget-view+json": {
       "model_id": "3295c112f30f4f3f9ff10209399679f3",
       "version_major": 2,
       "version_minor": 0
      },
      "text/plain": [
       "Figure(layout=FigureLayout(height='420px'))"
      ]
     },
     "metadata": {},
     "output_type": "display_data"
    }
   ],
   "source": [
    "# 7. Create a direction layer map using the start and end latitude-longitude pairs,\n",
    "# and stop1, stop2, and stop3 as the waypoints. The travel_mode should be \"DRIVING\", \"BICYCLING\", or \"WALKING\".\n",
    "\n",
    "fig = gmaps.figure()\n",
    "vacation_route = gmaps.directions_layer(start, end, waypoints=[stop1,stop2,stop3], \n",
    "                                        travel_mode=\"DRIVING\")\n",
    "fig.add_layer(vacation_route)\n",
    "fig"
   ]
  },
  {
   "cell_type": "code",
   "execution_count": 10,
   "metadata": {},
   "outputs": [
    {
     "data": {
      "text/html": [
       "<div>\n",
       "<style scoped>\n",
       "    .dataframe tbody tr th:only-of-type {\n",
       "        vertical-align: middle;\n",
       "    }\n",
       "\n",
       "    .dataframe tbody tr th {\n",
       "        vertical-align: top;\n",
       "    }\n",
       "\n",
       "    .dataframe thead th {\n",
       "        text-align: right;\n",
       "    }\n",
       "</style>\n",
       "<table border=\"1\" class=\"dataframe\">\n",
       "  <thead>\n",
       "    <tr style=\"text-align: right;\">\n",
       "      <th></th>\n",
       "      <th>City_ID</th>\n",
       "      <th>City</th>\n",
       "      <th>Country</th>\n",
       "      <th>Max Temp</th>\n",
       "      <th>Current Description</th>\n",
       "      <th>Lat</th>\n",
       "      <th>Lng</th>\n",
       "      <th>Hotel Name</th>\n",
       "    </tr>\n",
       "  </thead>\n",
       "  <tbody>\n",
       "    <tr>\n",
       "      <th>0</th>\n",
       "      <td>299</td>\n",
       "      <td>Santona</td>\n",
       "      <td>ES</td>\n",
       "      <td>62.91</td>\n",
       "      <td>few clouds</td>\n",
       "      <td>43.4439</td>\n",
       "      <td>-3.4576</td>\n",
       "      <td>Playamar</td>\n",
       "    </tr>\n",
       "    <tr>\n",
       "      <th>1</th>\n",
       "      <td>276</td>\n",
       "      <td>Ferrol</td>\n",
       "      <td>ES</td>\n",
       "      <td>63.36</td>\n",
       "      <td>few clouds</td>\n",
       "      <td>43.4832</td>\n",
       "      <td>-8.2369</td>\n",
       "      <td>Hotel Spa Sercotel Odeón</td>\n",
       "    </tr>\n",
       "    <tr>\n",
       "      <th>2</th>\n",
       "      <td>676</td>\n",
       "      <td>Ponferrada</td>\n",
       "      <td>ES</td>\n",
       "      <td>73.09</td>\n",
       "      <td>scattered clouds</td>\n",
       "      <td>42.5466</td>\n",
       "      <td>-6.5962</td>\n",
       "      <td>Hotel Temple Ponferrada</td>\n",
       "    </tr>\n",
       "    <tr>\n",
       "      <th>3</th>\n",
       "      <td>445</td>\n",
       "      <td>Logrono</td>\n",
       "      <td>ES</td>\n",
       "      <td>76.50</td>\n",
       "      <td>clear sky</td>\n",
       "      <td>42.4667</td>\n",
       "      <td>-2.4500</td>\n",
       "      <td>Hotel Gran Vía Logroño</td>\n",
       "    </tr>\n",
       "  </tbody>\n",
       "</table>\n",
       "</div>"
      ],
      "text/plain": [
       "   City_ID        City Country  Max Temp Current Description      Lat     Lng  \\\n",
       "0      299     Santona      ES     62.91          few clouds  43.4439 -3.4576   \n",
       "1      276      Ferrol      ES     63.36          few clouds  43.4832 -8.2369   \n",
       "2      676  Ponferrada      ES     73.09    scattered clouds  42.5466 -6.5962   \n",
       "3      445     Logrono      ES     76.50           clear sky  42.4667 -2.4500   \n",
       "\n",
       "                 Hotel Name  \n",
       "0                  Playamar  \n",
       "1  Hotel Spa Sercotel Odeón  \n",
       "2   Hotel Temple Ponferrada  \n",
       "3    Hotel Gran Vía Logroño  "
      ]
     },
     "execution_count": 10,
     "metadata": {},
     "output_type": "execute_result"
    }
   ],
   "source": [
    "# 8. To create a marker layer map between the four cities.\n",
    "#  Combine the four city DataFrames into one DataFrame using the concat() function.\n",
    "vacation_trip  = [vacation_start, vacation_stop1, vacation_stop2, vacation_stop3]\n",
    "itinerary_df = pd.concat (vacation_trip, ignore_index=True)\n",
    "itinerary_df"
   ]
  },
  {
   "cell_type": "code",
   "execution_count": 11,
   "metadata": {},
   "outputs": [],
   "source": [
    "# 9 Using the template add city name, the country code, the weather description and maximum temperature for the city. \n",
    "info_box_template = \"\"\"\n",
    "<dl>\n",
    "<dt>Hotel Name</dt><dd>{Hotel Name}</dd>\n",
    "<dt>City</dt><dd>{City}</dd>\n",
    "<dt>Country</dt><dd>{Country}</dd>\n",
    "<dt>Current Description</dt><dd>{Current Description} with {Max Temp} °F</dd>\n",
    "</dl>\n",
    "\"\"\"\n",
    "# 10a Get the data from each row and add it to the formatting template and store the data in a list.\n",
    "hotel_info = [info_box_template.format(**row) for index, row in itinerary_df.iterrows()]\n",
    "\n",
    "# 10b. Get the latitude and longitude from each row and store in a new DataFrame.\n",
    "locations = itinerary_df[[\"Lat\", \"Lng\"]]"
   ]
  },
  {
   "cell_type": "code",
   "execution_count": 12,
   "metadata": {},
   "outputs": [
    {
     "data": {
      "application/vnd.jupyter.widget-view+json": {
       "model_id": "3a3b5857d4cc482286199451e7c3e580",
       "version_major": 2,
       "version_minor": 0
      },
      "text/plain": [
       "Figure(layout=FigureLayout(height='420px'))"
      ]
     },
     "metadata": {},
     "output_type": "display_data"
    }
   ],
   "source": [
    "# 11a. Add a marker layer for each city to the map.\n",
    "fig = gmaps.figure()\n",
    "marker_layer = gmaps.marker_layer(locations, info_box_content=hotel_info)\n",
    "\n",
    "fig.add_layer(marker_layer)\n",
    "\n",
    "# 11b. Display the figure\n",
    "fig"
   ]
  },
  {
   "cell_type": "code",
   "execution_count": null,
   "metadata": {},
   "outputs": [],
   "source": []
  }
 ],
 "metadata": {
  "kernelspec": {
   "display_name": "PythonData",
   "language": "python",
   "name": "pythondata"
  },
  "language_info": {
   "codemirror_mode": {
    "name": "ipython",
    "version": 3
   },
   "file_extension": ".py",
   "mimetype": "text/x-python",
   "name": "python",
   "nbconvert_exporter": "python",
   "pygments_lexer": "ipython3",
   "version": "3.9.7"
  },
  "latex_envs": {
   "LaTeX_envs_menu_present": true,
   "autoclose": false,
   "autocomplete": true,
   "bibliofile": "biblio.bib",
   "cite_by": "apalike",
   "current_citInitial": 1,
   "eqLabelWithNumbers": true,
   "eqNumInitial": 1,
   "hotkeys": {
    "equation": "Ctrl-E",
    "itemize": "Ctrl-I"
   },
   "labels_anchors": false,
   "latex_user_defs": false,
   "report_style_numbering": false,
   "user_envs_cfg": false
  }
 },
 "nbformat": 4,
 "nbformat_minor": 2
}
