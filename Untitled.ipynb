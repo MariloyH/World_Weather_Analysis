{
 "cells": [
  {
   "cell_type": "code",
   "execution_count": 1,
   "id": "fb664e8d",
   "metadata": {},
   "outputs": [],
   "source": [
    "import random"
   ]
  },
  {
   "cell_type": "code",
   "execution_count": 4,
   "id": "96b33c9e",
   "metadata": {},
   "outputs": [
    {
     "data": {
      "text/plain": [
       "42"
      ]
     },
     "execution_count": 4,
     "metadata": {},
     "output_type": "execute_result"
    }
   ],
   "source": [
    "random.randint(-90,90)"
   ]
  },
  {
   "cell_type": "code",
   "execution_count": 5,
   "id": "0d8b6fbf",
   "metadata": {},
   "outputs": [
    {
     "data": {
      "text/plain": [
       "0.2674252205117871"
      ]
     },
     "execution_count": 5,
     "metadata": {},
     "output_type": "execute_result"
    }
   ],
   "source": [
    "random.random()"
   ]
  },
  {
   "cell_type": "code",
   "execution_count": 7,
   "id": "8d909d26",
   "metadata": {},
   "outputs": [
    {
     "data": {
      "text/plain": [
       "[39.35763232661785,\n",
       " 49.54587608048356,\n",
       " -70.83938645366378,\n",
       " -41.63876246878889,\n",
       " 51.85309668790717,\n",
       " 70.20331771430584,\n",
       " 13.794888465527396,\n",
       " 60.212371223970244,\n",
       " -72.33269950751372,\n",
       " 1.358188097255906]"
      ]
     },
     "execution_count": 7,
     "metadata": {},
     "output_type": "execute_result"
    }
   ],
   "source": [
    "x = 1\n",
    "latitudes = []\n",
    "while x < 11:\n",
    "    random_lat = random.randint(-90, 89) + random.random()\n",
    "    latitudes.append(random_lat)\n",
    "    x += 1\n",
    "latitudes"
   ]
  },
  {
   "cell_type": "code",
   "execution_count": 8,
   "id": "f066007e",
   "metadata": {},
   "outputs": [
    {
     "data": {
      "text/plain": [
       "-72"
      ]
     },
     "execution_count": 8,
     "metadata": {},
     "output_type": "execute_result"
    }
   ],
   "source": [
    " random.randrange(-90, 90, step=1)   "
   ]
  },
  {
   "cell_type": "code",
   "execution_count": 9,
   "id": "ec464422",
   "metadata": {},
   "outputs": [
    {
     "data": {
      "text/plain": [
       "13.996082167163323"
      ]
     },
     "execution_count": 9,
     "metadata": {},
     "output_type": "execute_result"
    }
   ],
   "source": [
    "random.uniform(-90, 90)"
   ]
  },
  {
   "cell_type": "code",
   "execution_count": 10,
   "id": "459ef44e",
   "metadata": {},
   "outputs": [],
   "source": [
    "# Import the NumPy module. Numerical math library that make arrays or matrices of numbers\n",
    "import numpy as np"
   ]
  },
  {
   "cell_type": "code",
   "execution_count": 14,
   "id": "c6e51e3c",
   "metadata": {},
   "outputs": [
    {
     "data": {
      "text/plain": [
       "70.03570362047626"
      ]
     },
     "execution_count": 14,
     "metadata": {},
     "output_type": "execute_result"
    }
   ],
   "source": [
    "np.random.uniform(-90.000, 90.000)"
   ]
  },
  {
   "cell_type": "code",
   "execution_count": 15,
   "id": "374989fa",
   "metadata": {},
   "outputs": [
    {
     "data": {
      "text/plain": [
       "array([ 61.87356955, -10.45475567,  59.77243144,  -9.72317796,\n",
       "         6.06854808, -11.38693125, -65.65766998,  43.96652904,\n",
       "        30.34530447,  87.45422974, -72.50648646,   0.37312543,\n",
       "        75.10366315, -81.01207786, -82.53247698,  24.45272551,\n",
       "        12.82682681, -39.00814121, -23.40291757, -58.63409914,\n",
       "        31.55528535, -47.06663258,   3.17342788,  52.07385334,\n",
       "        18.25314657,  31.57717438, -10.17671791,  32.56253363,\n",
       "        37.91655528,  41.74992414,   4.16075308,  16.00820427,\n",
       "        16.33502459, -27.26949728, -54.11550214,  14.6966687 ,\n",
       "       -66.82056675, -87.2219494 , -55.42916599,  61.5495744 ,\n",
       "       -11.37638755, -79.36646744,  48.06208557,  15.71608437,\n",
       "        20.09000258, -12.80382297,  26.11620744,  46.31976699,\n",
       "        88.67087335,  78.76457487])"
      ]
     },
     "execution_count": 15,
     "metadata": {},
     "output_type": "execute_result"
    }
   ],
   "source": [
    "np.random.uniform(-90.000, 90.000, size=50)"
   ]
  },
  {
   "cell_type": "code",
   "execution_count": 16,
   "id": "57f72e98",
   "metadata": {},
   "outputs": [
    {
     "data": {
      "text/plain": [
       "array([  9.06389428, -38.80663415,  21.61340704, ...,  14.79589566,\n",
       "       -86.9973864 , -34.73926361])"
      ]
     },
     "execution_count": 16,
     "metadata": {},
     "output_type": "execute_result"
    }
   ],
   "source": [
    "np.random.uniform(-90.000, 90.000, size=1500)"
   ]
  },
  {
   "cell_type": "code",
   "execution_count": 17,
   "id": "9a705b60",
   "metadata": {},
   "outputs": [],
   "source": [
    "# Import timeit. To test how long a piece of code or function takes to run\n",
    "import timeit"
   ]
  },
  {
   "cell_type": "code",
   "execution_count": 19,
   "id": "9491d88e",
   "metadata": {},
   "outputs": [
    {
     "name": "stdout",
     "output_type": "stream",
     "text": [
      "12.1 µs ± 36.7 ns per loop (mean ± std. dev. of 7 runs, 100000 loops each)\n"
     ]
    }
   ],
   "source": [
    "%timeit np.random.uniform(-90.000, 90.000, size=1500)"
   ]
  },
  {
   "cell_type": "code",
   "execution_count": 20,
   "id": "d258a82b",
   "metadata": {},
   "outputs": [
    {
     "name": "stdout",
     "output_type": "stream",
     "text": [
      "1.2 ms ± 8.56 µs per loop (mean ± std. dev. of 7 runs, 1000 loops each)\n"
     ]
    }
   ],
   "source": [
    "# let´s probe which is faster\n",
    "def latitudes(size):\n",
    "    latitudes = []\n",
    "    x = 0\n",
    "    while x < (size):\n",
    "        random_lat = random.randint(-90, 90) + random.random()\n",
    "        latitudes.append(random_lat)\n",
    "        x += 1\n",
    "    return latitudes\n",
    "# Call the function with 1500.\n",
    "%timeit latitudes(1500)"
   ]
  },
  {
   "cell_type": "code",
   "execution_count": null,
   "id": "be60ca56",
   "metadata": {},
   "outputs": [],
   "source": []
  }
 ],
 "metadata": {
  "kernelspec": {
   "display_name": "PythonData",
   "language": "python",
   "name": "pythondata"
  },
  "language_info": {
   "codemirror_mode": {
    "name": "ipython",
    "version": 3
   },
   "file_extension": ".py",
   "mimetype": "text/x-python",
   "name": "python",
   "nbconvert_exporter": "python",
   "pygments_lexer": "ipython3",
   "version": "3.9.7"
  }
 },
 "nbformat": 4,
 "nbformat_minor": 5
}
